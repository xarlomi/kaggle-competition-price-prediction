{
 "cells": [
  {
   "cell_type": "code",
   "execution_count": 1,
   "metadata": {},
   "outputs": [],
   "source": [
    "import pandas as pd\n",
    "import numpy as np \n",
    "from sklearn.metrics import confusion_matrix, accuracy_score, mean_squared_error\n",
    "import matplotlib.pyplot as plt\n",
    "import seaborn as sns\n",
    "from sklearn.model_selection import train_test_split\n",
    "from sklearn.ensemble import RandomForestRegressor"
   ]
  },
  {
   "cell_type": "code",
   "execution_count": 2,
   "metadata": {},
   "outputs": [],
   "source": [
    "train_df = pd.read_csv('diamonds_data/train.csv')\n",
    "test_df =  pd.read_csv('diamonds_data/test.csv')"
   ]
  },
  {
   "cell_type": "code",
   "execution_count": 3,
   "metadata": {},
   "outputs": [
    {
     "data": {
      "text/html": [
       "<div>\n",
       "<style scoped>\n",
       "    .dataframe tbody tr th:only-of-type {\n",
       "        vertical-align: middle;\n",
       "    }\n",
       "\n",
       "    .dataframe tbody tr th {\n",
       "        vertical-align: top;\n",
       "    }\n",
       "\n",
       "    .dataframe thead th {\n",
       "        text-align: right;\n",
       "    }\n",
       "</style>\n",
       "<table border=\"1\" class=\"dataframe\">\n",
       "  <thead>\n",
       "    <tr style=\"text-align: right;\">\n",
       "      <th></th>\n",
       "      <th>id</th>\n",
       "      <th>carat</th>\n",
       "      <th>cut</th>\n",
       "      <th>color</th>\n",
       "      <th>clarity</th>\n",
       "      <th>depth</th>\n",
       "      <th>table</th>\n",
       "      <th>x</th>\n",
       "      <th>y</th>\n",
       "      <th>z</th>\n",
       "      <th>price</th>\n",
       "    </tr>\n",
       "  </thead>\n",
       "  <tbody>\n",
       "    <tr>\n",
       "      <th>0</th>\n",
       "      <td>0</td>\n",
       "      <td>1.50</td>\n",
       "      <td>Premium</td>\n",
       "      <td>F</td>\n",
       "      <td>VS2</td>\n",
       "      <td>61.5</td>\n",
       "      <td>58.0</td>\n",
       "      <td>7.32</td>\n",
       "      <td>7.34</td>\n",
       "      <td>4.51</td>\n",
       "      <td>9.588</td>\n",
       "    </tr>\n",
       "    <tr>\n",
       "      <th>1</th>\n",
       "      <td>1</td>\n",
       "      <td>2.01</td>\n",
       "      <td>Very Good</td>\n",
       "      <td>E</td>\n",
       "      <td>SI2</td>\n",
       "      <td>60.6</td>\n",
       "      <td>59.0</td>\n",
       "      <td>8.11</td>\n",
       "      <td>8.25</td>\n",
       "      <td>4.96</td>\n",
       "      <td>9.748</td>\n",
       "    </tr>\n",
       "    <tr>\n",
       "      <th>2</th>\n",
       "      <td>2</td>\n",
       "      <td>0.50</td>\n",
       "      <td>Ideal</td>\n",
       "      <td>E</td>\n",
       "      <td>SI1</td>\n",
       "      <td>61.6</td>\n",
       "      <td>57.0</td>\n",
       "      <td>5.13</td>\n",
       "      <td>5.09</td>\n",
       "      <td>3.15</td>\n",
       "      <td>7.255</td>\n",
       "    </tr>\n",
       "    <tr>\n",
       "      <th>3</th>\n",
       "      <td>3</td>\n",
       "      <td>0.25</td>\n",
       "      <td>Very Good</td>\n",
       "      <td>F</td>\n",
       "      <td>VVS2</td>\n",
       "      <td>61.6</td>\n",
       "      <td>57.0</td>\n",
       "      <td>4.05</td>\n",
       "      <td>4.08</td>\n",
       "      <td>2.50</td>\n",
       "      <td>6.450</td>\n",
       "    </tr>\n",
       "    <tr>\n",
       "      <th>4</th>\n",
       "      <td>4</td>\n",
       "      <td>0.52</td>\n",
       "      <td>Ideal</td>\n",
       "      <td>G</td>\n",
       "      <td>VS2</td>\n",
       "      <td>62.0</td>\n",
       "      <td>55.0</td>\n",
       "      <td>5.16</td>\n",
       "      <td>5.19</td>\n",
       "      <td>3.21</td>\n",
       "      <td>7.721</td>\n",
       "    </tr>\n",
       "    <tr>\n",
       "      <th>...</th>\n",
       "      <td>...</td>\n",
       "      <td>...</td>\n",
       "      <td>...</td>\n",
       "      <td>...</td>\n",
       "      <td>...</td>\n",
       "      <td>...</td>\n",
       "      <td>...</td>\n",
       "      <td>...</td>\n",
       "      <td>...</td>\n",
       "      <td>...</td>\n",
       "      <td>...</td>\n",
       "    </tr>\n",
       "    <tr>\n",
       "      <th>40450</th>\n",
       "      <td>40450</td>\n",
       "      <td>1.04</td>\n",
       "      <td>Very Good</td>\n",
       "      <td>I</td>\n",
       "      <td>SI2</td>\n",
       "      <td>59.6</td>\n",
       "      <td>57.0</td>\n",
       "      <td>6.60</td>\n",
       "      <td>6.62</td>\n",
       "      <td>3.94</td>\n",
       "      <td>8.190</td>\n",
       "    </tr>\n",
       "    <tr>\n",
       "      <th>40451</th>\n",
       "      <td>40451</td>\n",
       "      <td>0.51</td>\n",
       "      <td>Very Good</td>\n",
       "      <td>E</td>\n",
       "      <td>SI1</td>\n",
       "      <td>63.3</td>\n",
       "      <td>59.0</td>\n",
       "      <td>5.09</td>\n",
       "      <td>5.05</td>\n",
       "      <td>3.21</td>\n",
       "      <td>7.246</td>\n",
       "    </tr>\n",
       "    <tr>\n",
       "      <th>40452</th>\n",
       "      <td>40452</td>\n",
       "      <td>1.51</td>\n",
       "      <td>Ideal</td>\n",
       "      <td>H</td>\n",
       "      <td>VS2</td>\n",
       "      <td>62.6</td>\n",
       "      <td>57.0</td>\n",
       "      <td>7.37</td>\n",
       "      <td>7.33</td>\n",
       "      <td>4.60</td>\n",
       "      <td>9.277</td>\n",
       "    </tr>\n",
       "    <tr>\n",
       "      <th>40453</th>\n",
       "      <td>40453</td>\n",
       "      <td>2.02</td>\n",
       "      <td>Premium</td>\n",
       "      <td>H</td>\n",
       "      <td>VS2</td>\n",
       "      <td>61.3</td>\n",
       "      <td>60.0</td>\n",
       "      <td>8.16</td>\n",
       "      <td>8.11</td>\n",
       "      <td>4.99</td>\n",
       "      <td>9.680</td>\n",
       "    </tr>\n",
       "    <tr>\n",
       "      <th>40454</th>\n",
       "      <td>40454</td>\n",
       "      <td>0.50</td>\n",
       "      <td>Fair</td>\n",
       "      <td>F</td>\n",
       "      <td>VS2</td>\n",
       "      <td>55.8</td>\n",
       "      <td>60.0</td>\n",
       "      <td>5.31</td>\n",
       "      <td>5.27</td>\n",
       "      <td>2.95</td>\n",
       "      <td>7.154</td>\n",
       "    </tr>\n",
       "  </tbody>\n",
       "</table>\n",
       "<p>40455 rows × 11 columns</p>\n",
       "</div>"
      ],
      "text/plain": [
       "          id  carat        cut color clarity  depth  table     x     y     z  \\\n",
       "0          0   1.50    Premium     F     VS2   61.5   58.0  7.32  7.34  4.51   \n",
       "1          1   2.01  Very Good     E     SI2   60.6   59.0  8.11  8.25  4.96   \n",
       "2          2   0.50      Ideal     E     SI1   61.6   57.0  5.13  5.09  3.15   \n",
       "3          3   0.25  Very Good     F    VVS2   61.6   57.0  4.05  4.08  2.50   \n",
       "4          4   0.52      Ideal     G     VS2   62.0   55.0  5.16  5.19  3.21   \n",
       "...      ...    ...        ...   ...     ...    ...    ...   ...   ...   ...   \n",
       "40450  40450   1.04  Very Good     I     SI2   59.6   57.0  6.60  6.62  3.94   \n",
       "40451  40451   0.51  Very Good     E     SI1   63.3   59.0  5.09  5.05  3.21   \n",
       "40452  40452   1.51      Ideal     H     VS2   62.6   57.0  7.37  7.33  4.60   \n",
       "40453  40453   2.02    Premium     H     VS2   61.3   60.0  8.16  8.11  4.99   \n",
       "40454  40454   0.50       Fair     F     VS2   55.8   60.0  5.31  5.27  2.95   \n",
       "\n",
       "       price  \n",
       "0      9.588  \n",
       "1      9.748  \n",
       "2      7.255  \n",
       "3      6.450  \n",
       "4      7.721  \n",
       "...      ...  \n",
       "40450  8.190  \n",
       "40451  7.246  \n",
       "40452  9.277  \n",
       "40453  9.680  \n",
       "40454  7.154  \n",
       "\n",
       "[40455 rows x 11 columns]"
      ]
     },
     "execution_count": 3,
     "metadata": {},
     "output_type": "execute_result"
    }
   ],
   "source": [
    "# Your code here:\n",
    "train_df"
   ]
  },
  {
   "cell_type": "code",
   "execution_count": 4,
   "metadata": {},
   "outputs": [
    {
     "data": {
      "text/plain": [
       "id         0\n",
       "carat      0\n",
       "cut        0\n",
       "color      0\n",
       "clarity    0\n",
       "depth      0\n",
       "table      0\n",
       "x          0\n",
       "y          0\n",
       "z          0\n",
       "price      0\n",
       "dtype: int64"
      ]
     },
     "execution_count": 4,
     "metadata": {},
     "output_type": "execute_result"
    }
   ],
   "source": [
    "train_df.isna().sum()"
   ]
  },
  {
   "cell_type": "markdown",
   "metadata": {},
   "source": [
    "### Let´s check the columns:"
   ]
  },
  {
   "cell_type": "code",
   "execution_count": 5,
   "metadata": {},
   "outputs": [
    {
     "data": {
      "text/plain": [
       "id           int64\n",
       "carat      float64\n",
       "cut         object\n",
       "color       object\n",
       "clarity     object\n",
       "depth      float64\n",
       "table      float64\n",
       "x          float64\n",
       "y          float64\n",
       "z          float64\n",
       "price      float64\n",
       "dtype: object"
      ]
     },
     "execution_count": 5,
     "metadata": {},
     "output_type": "execute_result"
    }
   ],
   "source": [
    "train_df.dtypes"
   ]
  },
  {
   "cell_type": "markdown",
   "metadata": {},
   "source": [
    "### Let´s look at their correlation:"
   ]
  },
  {
   "cell_type": "code",
   "execution_count": 6,
   "metadata": {
    "scrolled": true
   },
   "outputs": [
    {
     "data": {
      "text/plain": [
       "<AxesSubplot:>"
      ]
     },
     "execution_count": 6,
     "metadata": {},
     "output_type": "execute_result"
    },
    {
     "data": {
      "image/png": "[encoded data removed]",
      "text/plain": [
       "<Figure size 576x576 with 2 Axes>"
      ]
     },
     "metadata": {
      "needs_background": "light"
     },
     "output_type": "display_data"
    }
   ],
   "source": [
    "plt.figure(figsize=(8,8))\n",
    "sns.heatmap(train_df.corr().round(2), annot = True)"
   ]
  },
  {
   "cell_type": "markdown",
   "metadata": {},
   "source": [
    "### Let´s delete all the cols that have correlation with carat > 90:"
   ]
  },
  {
   "cell_type": "code",
   "execution_count": 7,
   "metadata": {},
   "outputs": [],
   "source": [
    "del train_df['x']\n",
    "del train_df['y']\n",
    "del train_df['z']"
   ]
  },
  {
   "cell_type": "markdown",
   "metadata": {},
   "source": [
    "### Let´s convert the objects into ordinal values:"
   ]
  },
  {
   "cell_type": "code",
   "execution_count": 8,
   "metadata": {},
   "outputs": [
    {
     "data": {
      "text/plain": [
       "array(['VS2', 'SI2', 'SI1', 'VVS2', 'VS1', 'VVS1', 'IF', 'I1'],\n",
       "      dtype=object)"
      ]
     },
     "execution_count": 8,
     "metadata": {},
     "output_type": "execute_result"
    }
   ],
   "source": [
    "train_df.clarity.unique()"
   ]
  },
  {
   "cell_type": "code",
   "execution_count": 11,
   "metadata": {},
   "outputs": [
    {
     "data": {
      "text/plain": [
       "array(['Premium', 'Very Good', 'Ideal', 'Good', 'Fair'], dtype=object)"
      ]
     },
     "execution_count": 11,
     "metadata": {},
     "output_type": "execute_result"
    }
   ],
   "source": [
    "train_df.cut.unique()"
   ]
  },
  {
   "cell_type": "code",
   "execution_count": 15,
   "metadata": {},
   "outputs": [
    {
     "data": {
      "text/plain": [
       "array(['F', 'E', 'G', 'D', 'J', 'I', 'H'], dtype=object)"
      ]
     },
     "execution_count": 15,
     "metadata": {},
     "output_type": "execute_result"
    }
   ],
   "source": [
    "train_df.color.unique()"
   ]
  },
  {
   "cell_type": "code",
   "execution_count": 9,
   "metadata": {},
   "outputs": [],
   "source": [
    "encod = {\n",
    "    \"Fair\":1,\n",
    "    \"Ideal\":2,\n",
    "    \"Good\":3,\n",
    "    \"Very Good\":4,\n",
    "    \"Premium\":5\n",
    "}"
   ]
  },
  {
   "cell_type": "code",
   "execution_count": 10,
   "metadata": {},
   "outputs": [
    {
     "data": {
      "text/html": [
       "<div>\n",
       "<style scoped>\n",
       "    .dataframe tbody tr th:only-of-type {\n",
       "        vertical-align: middle;\n",
       "    }\n",
       "\n",
       "    .dataframe tbody tr th {\n",
       "        vertical-align: top;\n",
       "    }\n",
       "\n",
       "    .dataframe thead th {\n",
       "        text-align: right;\n",
       "    }\n",
       "</style>\n",
       "<table border=\"1\" class=\"dataframe\">\n",
       "  <thead>\n",
       "    <tr style=\"text-align: right;\">\n",
       "      <th></th>\n",
       "      <th>id</th>\n",
       "      <th>carat</th>\n",
       "      <th>cut</th>\n",
       "      <th>color</th>\n",
       "      <th>clarity</th>\n",
       "      <th>depth</th>\n",
       "      <th>table</th>\n",
       "      <th>price</th>\n",
       "    </tr>\n",
       "  </thead>\n",
       "  <tbody>\n",
       "    <tr>\n",
       "      <th>0</th>\n",
       "      <td>0</td>\n",
       "      <td>1.50</td>\n",
       "      <td>5</td>\n",
       "      <td>F</td>\n",
       "      <td>VS2</td>\n",
       "      <td>61.5</td>\n",
       "      <td>58.0</td>\n",
       "      <td>9.588</td>\n",
       "    </tr>\n",
       "    <tr>\n",
       "      <th>1</th>\n",
       "      <td>1</td>\n",
       "      <td>2.01</td>\n",
       "      <td>4</td>\n",
       "      <td>E</td>\n",
       "      <td>SI2</td>\n",
       "      <td>60.6</td>\n",
       "      <td>59.0</td>\n",
       "      <td>9.748</td>\n",
       "    </tr>\n",
       "    <tr>\n",
       "      <th>2</th>\n",
       "      <td>2</td>\n",
       "      <td>0.50</td>\n",
       "      <td>2</td>\n",
       "      <td>E</td>\n",
       "      <td>SI1</td>\n",
       "      <td>61.6</td>\n",
       "      <td>57.0</td>\n",
       "      <td>7.255</td>\n",
       "    </tr>\n",
       "    <tr>\n",
       "      <th>3</th>\n",
       "      <td>3</td>\n",
       "      <td>0.25</td>\n",
       "      <td>4</td>\n",
       "      <td>F</td>\n",
       "      <td>VVS2</td>\n",
       "      <td>61.6</td>\n",
       "      <td>57.0</td>\n",
       "      <td>6.450</td>\n",
       "    </tr>\n",
       "    <tr>\n",
       "      <th>4</th>\n",
       "      <td>4</td>\n",
       "      <td>0.52</td>\n",
       "      <td>2</td>\n",
       "      <td>G</td>\n",
       "      <td>VS2</td>\n",
       "      <td>62.0</td>\n",
       "      <td>55.0</td>\n",
       "      <td>7.721</td>\n",
       "    </tr>\n",
       "  </tbody>\n",
       "</table>\n",
       "</div>"
      ],
      "text/plain": [
       "   id  carat  cut color clarity  depth  table  price\n",
       "0   0   1.50    5     F     VS2   61.5   58.0  9.588\n",
       "1   1   2.01    4     E     SI2   60.6   59.0  9.748\n",
       "2   2   0.50    2     E     SI1   61.6   57.0  7.255\n",
       "3   3   0.25    4     F    VVS2   61.6   57.0  6.450\n",
       "4   4   0.52    2     G     VS2   62.0   55.0  7.721"
      ]
     },
     "execution_count": 10,
     "metadata": {},
     "output_type": "execute_result"
    }
   ],
   "source": [
    "train_df[\"cut\"] = train_df[\"cut\"].apply(lambda x: encod[x])\n",
    "train_df.head()"
   ]
  },
  {
   "cell_type": "code",
   "execution_count": 11,
   "metadata": {},
   "outputs": [],
   "source": [
    "train_df = pd.get_dummies(train_df, columns=[ \"color\", \"clarity\"], drop_first=True)"
   ]
  },
  {
   "cell_type": "code",
   "execution_count": 13,
   "metadata": {},
   "outputs": [],
   "source": [
    "X = train_df.drop(['price','id'], axis=1)\n",
    "y = train_df.price"
   ]
  },
  {
   "cell_type": "code",
   "execution_count": 67,
   "metadata": {},
   "outputs": [
    {
     "data": {
      "text/html": [
       "<div>\n",
       "<style scoped>\n",
       "    .dataframe tbody tr th:only-of-type {\n",
       "        vertical-align: middle;\n",
       "    }\n",
       "\n",
       "    .dataframe tbody tr th {\n",
       "        vertical-align: top;\n",
       "    }\n",
       "\n",
       "    .dataframe thead th {\n",
       "        text-align: right;\n",
       "    }\n",
       "</style>\n",
       "<table border=\"1\" class=\"dataframe\">\n",
       "  <thead>\n",
       "    <tr style=\"text-align: right;\">\n",
       "      <th></th>\n",
       "      <th>id</th>\n",
       "      <th>carat</th>\n",
       "      <th>cut</th>\n",
       "      <th>depth</th>\n",
       "      <th>table</th>\n",
       "      <th>price</th>\n",
       "      <th>color_E</th>\n",
       "      <th>color_F</th>\n",
       "      <th>color_G</th>\n",
       "      <th>color_H</th>\n",
       "      <th>color_I</th>\n",
       "      <th>color_J</th>\n",
       "      <th>clarity_IF</th>\n",
       "      <th>clarity_SI1</th>\n",
       "      <th>clarity_SI2</th>\n",
       "      <th>clarity_VS1</th>\n",
       "      <th>clarity_VS2</th>\n",
       "      <th>clarity_VVS1</th>\n",
       "      <th>clarity_VVS2</th>\n",
       "    </tr>\n",
       "  </thead>\n",
       "  <tbody>\n",
       "    <tr>\n",
       "      <th>0</th>\n",
       "      <td>0</td>\n",
       "      <td>1.50</td>\n",
       "      <td>5</td>\n",
       "      <td>61.5</td>\n",
       "      <td>58.0</td>\n",
       "      <td>9.588</td>\n",
       "      <td>0</td>\n",
       "      <td>1</td>\n",
       "      <td>0</td>\n",
       "      <td>0</td>\n",
       "      <td>0</td>\n",
       "      <td>0</td>\n",
       "      <td>0</td>\n",
       "      <td>0</td>\n",
       "      <td>0</td>\n",
       "      <td>0</td>\n",
       "      <td>1</td>\n",
       "      <td>0</td>\n",
       "      <td>0</td>\n",
       "    </tr>\n",
       "    <tr>\n",
       "      <th>1</th>\n",
       "      <td>1</td>\n",
       "      <td>2.01</td>\n",
       "      <td>4</td>\n",
       "      <td>60.6</td>\n",
       "      <td>59.0</td>\n",
       "      <td>9.748</td>\n",
       "      <td>1</td>\n",
       "      <td>0</td>\n",
       "      <td>0</td>\n",
       "      <td>0</td>\n",
       "      <td>0</td>\n",
       "      <td>0</td>\n",
       "      <td>0</td>\n",
       "      <td>0</td>\n",
       "      <td>1</td>\n",
       "      <td>0</td>\n",
       "      <td>0</td>\n",
       "      <td>0</td>\n",
       "      <td>0</td>\n",
       "    </tr>\n",
       "    <tr>\n",
       "      <th>2</th>\n",
       "      <td>2</td>\n",
       "      <td>0.50</td>\n",
       "      <td>2</td>\n",
       "      <td>61.6</td>\n",
       "      <td>57.0</td>\n",
       "      <td>7.255</td>\n",
       "      <td>1</td>\n",
       "      <td>0</td>\n",
       "      <td>0</td>\n",
       "      <td>0</td>\n",
       "      <td>0</td>\n",
       "      <td>0</td>\n",
       "      <td>0</td>\n",
       "      <td>1</td>\n",
       "      <td>0</td>\n",
       "      <td>0</td>\n",
       "      <td>0</td>\n",
       "      <td>0</td>\n",
       "      <td>0</td>\n",
       "    </tr>\n",
       "    <tr>\n",
       "      <th>3</th>\n",
       "      <td>3</td>\n",
       "      <td>0.25</td>\n",
       "      <td>4</td>\n",
       "      <td>61.6</td>\n",
       "      <td>57.0</td>\n",
       "      <td>6.450</td>\n",
       "      <td>0</td>\n",
       "      <td>1</td>\n",
       "      <td>0</td>\n",
       "      <td>0</td>\n",
       "      <td>0</td>\n",
       "      <td>0</td>\n",
       "      <td>0</td>\n",
       "      <td>0</td>\n",
       "      <td>0</td>\n",
       "      <td>0</td>\n",
       "      <td>0</td>\n",
       "      <td>0</td>\n",
       "      <td>1</td>\n",
       "    </tr>\n",
       "    <tr>\n",
       "      <th>4</th>\n",
       "      <td>4</td>\n",
       "      <td>0.52</td>\n",
       "      <td>2</td>\n",
       "      <td>62.0</td>\n",
       "      <td>55.0</td>\n",
       "      <td>7.721</td>\n",
       "      <td>0</td>\n",
       "      <td>0</td>\n",
       "      <td>1</td>\n",
       "      <td>0</td>\n",
       "      <td>0</td>\n",
       "      <td>0</td>\n",
       "      <td>0</td>\n",
       "      <td>0</td>\n",
       "      <td>0</td>\n",
       "      <td>0</td>\n",
       "      <td>1</td>\n",
       "      <td>0</td>\n",
       "      <td>0</td>\n",
       "    </tr>\n",
       "  </tbody>\n",
       "</table>\n",
       "</div>"
      ],
      "text/plain": [
       "   id  carat  cut  depth  table  price  color_E  color_F  color_G  color_H  \\\n",
       "0   0   1.50    5   61.5   58.0  9.588        0        1        0        0   \n",
       "1   1   2.01    4   60.6   59.0  9.748        1        0        0        0   \n",
       "2   2   0.50    2   61.6   57.0  7.255        1        0        0        0   \n",
       "3   3   0.25    4   61.6   57.0  6.450        0        1        0        0   \n",
       "4   4   0.52    2   62.0   55.0  7.721        0        0        1        0   \n",
       "\n",
       "   color_I  color_J  clarity_IF  clarity_SI1  clarity_SI2  clarity_VS1  \\\n",
       "0        0        0           0            0            0            0   \n",
       "1        0        0           0            0            1            0   \n",
       "2        0        0           0            1            0            0   \n",
       "3        0        0           0            0            0            0   \n",
       "4        0        0           0            0            0            0   \n",
       "\n",
       "   clarity_VS2  clarity_VVS1  clarity_VVS2  \n",
       "0            1             0             0  \n",
       "1            0             0             0  \n",
       "2            0             0             0  \n",
       "3            0             0             1  \n",
       "4            1             0             0  "
      ]
     },
     "execution_count": 67,
     "metadata": {},
     "output_type": "execute_result"
    }
   ],
   "source": [
    "train_df.head()"
   ]
  },
  {
   "cell_type": "code",
   "execution_count": 15,
   "metadata": {},
   "outputs": [],
   "source": [
    "X_train, X_test, y_train, y_test = train_test_split(X,y, test_size=0.2)"
   ]
  },
  {
   "cell_type": "code",
   "execution_count": 16,
   "metadata": {},
   "outputs": [],
   "source": [
    "forest = RandomForestRegressor()"
   ]
  },
  {
   "cell_type": "code",
   "execution_count": 136,
   "metadata": {},
   "outputs": [],
   "source": [
    "from sklearn.model_selection import GridSearchCV\n",
    "model = RandomForestRegressor()\n",
    "params = {\n",
    "    \"n_estimators\":[50,100,200,300], \n",
    "    \"max_depth\":[4, 5, 6, None], \n",
    "    \"min_samples_split\":[2,5,8], \n",
    "    \"min_samples_leaf\":[1,3,5,8]\n",
    "}"
   ]
  },
  {
   "cell_type": "code",
   "execution_count": 137,
   "metadata": {},
   "outputs": [],
   "source": [
    "clf = GridSearchCV(estimator=model, param_grid=params, verbose=2, n_jobs=4, scoring= 'neg_mean_squared_error')"
   ]
  },
  {
   "cell_type": "code",
   "execution_count": 138,
   "metadata": {},
   "outputs": [
    {
     "name": "stdout",
     "output_type": "stream",
     "text": [
      "Fitting 5 folds for each of 192 candidates, totalling 960 fits\n"
     ]
    },
    {
     "data": {
      "text/plain": [
       "GridSearchCV(estimator=RandomForestRegressor(), n_jobs=4,\n",
       "             param_grid={'max_depth': [4, 5, 6, None],\n",
       "                         'min_samples_leaf': [1, 3, 5, 8],\n",
       "                         'min_samples_split': [2, 5, 8],\n",
       "                         'n_estimators': [50, 100, 200, 300]},\n",
       "             scoring='neg_mean_squared_error', verbose=2)"
      ]
     },
     "execution_count": 138,
     "metadata": {},
     "output_type": "execute_result"
    }
   ],
   "source": [
    "clf.fit(X, y)"
   ]
  },
  {
   "cell_type": "code",
   "execution_count": 139,
   "metadata": {
    "scrolled": true
   },
   "outputs": [
    {
     "data": {
      "text/html": [
       "<div>\n",
       "<style scoped>\n",
       "    .dataframe tbody tr th:only-of-type {\n",
       "        vertical-align: middle;\n",
       "    }\n",
       "\n",
       "    .dataframe tbody tr th {\n",
       "        vertical-align: top;\n",
       "    }\n",
       "\n",
       "    .dataframe thead th {\n",
       "        text-align: right;\n",
       "    }\n",
       "</style>\n",
       "<table border=\"1\" class=\"dataframe\">\n",
       "  <thead>\n",
       "    <tr style=\"text-align: right;\">\n",
       "      <th></th>\n",
       "      <th>mean_fit_time</th>\n",
       "      <th>std_fit_time</th>\n",
       "      <th>mean_score_time</th>\n",
       "      <th>std_score_time</th>\n",
       "      <th>param_max_depth</th>\n",
       "      <th>param_min_samples_leaf</th>\n",
       "      <th>param_min_samples_split</th>\n",
       "      <th>param_n_estimators</th>\n",
       "      <th>params</th>\n",
       "      <th>split0_test_score</th>\n",
       "      <th>split1_test_score</th>\n",
       "      <th>split2_test_score</th>\n",
       "      <th>split3_test_score</th>\n",
       "      <th>split4_test_score</th>\n",
       "      <th>mean_test_score</th>\n",
       "      <th>std_test_score</th>\n",
       "      <th>rank_test_score</th>\n",
       "    </tr>\n",
       "  </thead>\n",
       "  <tbody>\n",
       "    <tr>\n",
       "      <th>20</th>\n",
       "      <td>1.522346</td>\n",
       "      <td>0.102042</td>\n",
       "      <td>0.022793</td>\n",
       "      <td>0.000655</td>\n",
       "      <td>4</td>\n",
       "      <td>3</td>\n",
       "      <td>8</td>\n",
       "      <td>50</td>\n",
       "      <td>{'max_depth': 4, 'min_samples_leaf': 3, 'min_s...</td>\n",
       "      <td>-0.059680</td>\n",
       "      <td>-0.057884</td>\n",
       "      <td>-0.058369</td>\n",
       "      <td>-0.059829</td>\n",
       "      <td>-0.059759</td>\n",
       "      <td>-0.059104</td>\n",
       "      <td>0.000814</td>\n",
       "      <td>192</td>\n",
       "    </tr>\n",
       "    <tr>\n",
       "      <th>16</th>\n",
       "      <td>1.434276</td>\n",
       "      <td>0.009088</td>\n",
       "      <td>0.023491</td>\n",
       "      <td>0.000312</td>\n",
       "      <td>4</td>\n",
       "      <td>3</td>\n",
       "      <td>5</td>\n",
       "      <td>50</td>\n",
       "      <td>{'max_depth': 4, 'min_samples_leaf': 3, 'min_s...</td>\n",
       "      <td>-0.059772</td>\n",
       "      <td>-0.057847</td>\n",
       "      <td>-0.058610</td>\n",
       "      <td>-0.059755</td>\n",
       "      <td>-0.059515</td>\n",
       "      <td>-0.059100</td>\n",
       "      <td>0.000757</td>\n",
       "      <td>191</td>\n",
       "    </tr>\n",
       "    <tr>\n",
       "      <th>44</th>\n",
       "      <td>1.421619</td>\n",
       "      <td>0.073801</td>\n",
       "      <td>0.024025</td>\n",
       "      <td>0.001103</td>\n",
       "      <td>4</td>\n",
       "      <td>8</td>\n",
       "      <td>8</td>\n",
       "      <td>50</td>\n",
       "      <td>{'max_depth': 4, 'min_samples_leaf': 8, 'min_s...</td>\n",
       "      <td>-0.059682</td>\n",
       "      <td>-0.057776</td>\n",
       "      <td>-0.058601</td>\n",
       "      <td>-0.059848</td>\n",
       "      <td>-0.059533</td>\n",
       "      <td>-0.059088</td>\n",
       "      <td>0.000786</td>\n",
       "      <td>190</td>\n",
       "    </tr>\n",
       "    <tr>\n",
       "      <th>0</th>\n",
       "      <td>1.336007</td>\n",
       "      <td>0.029952</td>\n",
       "      <td>0.020885</td>\n",
       "      <td>0.000338</td>\n",
       "      <td>4</td>\n",
       "      <td>1</td>\n",
       "      <td>2</td>\n",
       "      <td>50</td>\n",
       "      <td>{'max_depth': 4, 'min_samples_leaf': 1, 'min_s...</td>\n",
       "      <td>-0.059738</td>\n",
       "      <td>-0.057774</td>\n",
       "      <td>-0.058339</td>\n",
       "      <td>-0.059936</td>\n",
       "      <td>-0.059637</td>\n",
       "      <td>-0.059085</td>\n",
       "      <td>0.000864</td>\n",
       "      <td>189</td>\n",
       "    </tr>\n",
       "    <tr>\n",
       "      <th>45</th>\n",
       "      <td>2.724822</td>\n",
       "      <td>0.022226</td>\n",
       "      <td>0.040162</td>\n",
       "      <td>0.000544</td>\n",
       "      <td>4</td>\n",
       "      <td>8</td>\n",
       "      <td>8</td>\n",
       "      <td>100</td>\n",
       "      <td>{'max_depth': 4, 'min_samples_leaf': 8, 'min_s...</td>\n",
       "      <td>-0.059635</td>\n",
       "      <td>-0.057617</td>\n",
       "      <td>-0.058390</td>\n",
       "      <td>-0.059942</td>\n",
       "      <td>-0.059615</td>\n",
       "      <td>-0.059040</td>\n",
       "      <td>0.000888</td>\n",
       "      <td>188</td>\n",
       "    </tr>\n",
       "    <tr>\n",
       "      <th>...</th>\n",
       "      <td>...</td>\n",
       "      <td>...</td>\n",
       "      <td>...</td>\n",
       "      <td>...</td>\n",
       "      <td>...</td>\n",
       "      <td>...</td>\n",
       "      <td>...</td>\n",
       "      <td>...</td>\n",
       "      <td>...</td>\n",
       "      <td>...</td>\n",
       "      <td>...</td>\n",
       "      <td>...</td>\n",
       "      <td>...</td>\n",
       "      <td>...</td>\n",
       "      <td>...</td>\n",
       "      <td>...</td>\n",
       "      <td>...</td>\n",
       "    </tr>\n",
       "    <tr>\n",
       "      <th>149</th>\n",
       "      <td>10.388941</td>\n",
       "      <td>0.026962</td>\n",
       "      <td>0.195625</td>\n",
       "      <td>0.010145</td>\n",
       "      <td>None</td>\n",
       "      <td>1</td>\n",
       "      <td>5</td>\n",
       "      <td>100</td>\n",
       "      <td>{'max_depth': None, 'min_samples_leaf': 1, 'mi...</td>\n",
       "      <td>-0.015310</td>\n",
       "      <td>-0.013556</td>\n",
       "      <td>-0.013715</td>\n",
       "      <td>-0.013640</td>\n",
       "      <td>-0.015161</td>\n",
       "      <td>-0.014276</td>\n",
       "      <td>0.000786</td>\n",
       "      <td>5</td>\n",
       "    </tr>\n",
       "    <tr>\n",
       "      <th>154</th>\n",
       "      <td>19.345692</td>\n",
       "      <td>0.015884</td>\n",
       "      <td>0.342022</td>\n",
       "      <td>0.016341</td>\n",
       "      <td>None</td>\n",
       "      <td>1</td>\n",
       "      <td>8</td>\n",
       "      <td>200</td>\n",
       "      <td>{'max_depth': None, 'min_samples_leaf': 1, 'mi...</td>\n",
       "      <td>-0.015470</td>\n",
       "      <td>-0.013402</td>\n",
       "      <td>-0.013533</td>\n",
       "      <td>-0.013603</td>\n",
       "      <td>-0.015325</td>\n",
       "      <td>-0.014267</td>\n",
       "      <td>0.000927</td>\n",
       "      <td>4</td>\n",
       "    </tr>\n",
       "    <tr>\n",
       "      <th>150</th>\n",
       "      <td>20.662497</td>\n",
       "      <td>0.054795</td>\n",
       "      <td>0.382711</td>\n",
       "      <td>0.024335</td>\n",
       "      <td>None</td>\n",
       "      <td>1</td>\n",
       "      <td>5</td>\n",
       "      <td>200</td>\n",
       "      <td>{'max_depth': None, 'min_samples_leaf': 1, 'mi...</td>\n",
       "      <td>-0.015373</td>\n",
       "      <td>-0.013520</td>\n",
       "      <td>-0.013672</td>\n",
       "      <td>-0.013608</td>\n",
       "      <td>-0.015147</td>\n",
       "      <td>-0.014264</td>\n",
       "      <td>0.000818</td>\n",
       "      <td>3</td>\n",
       "    </tr>\n",
       "    <tr>\n",
       "      <th>155</th>\n",
       "      <td>29.155055</td>\n",
       "      <td>0.068331</td>\n",
       "      <td>0.515122</td>\n",
       "      <td>0.025239</td>\n",
       "      <td>None</td>\n",
       "      <td>1</td>\n",
       "      <td>8</td>\n",
       "      <td>300</td>\n",
       "      <td>{'max_depth': None, 'min_samples_leaf': 1, 'mi...</td>\n",
       "      <td>-0.015371</td>\n",
       "      <td>-0.013478</td>\n",
       "      <td>-0.013601</td>\n",
       "      <td>-0.013542</td>\n",
       "      <td>-0.015311</td>\n",
       "      <td>-0.014261</td>\n",
       "      <td>0.000883</td>\n",
       "      <td>2</td>\n",
       "    </tr>\n",
       "    <tr>\n",
       "      <th>151</th>\n",
       "      <td>31.267943</td>\n",
       "      <td>0.123276</td>\n",
       "      <td>0.576736</td>\n",
       "      <td>0.025889</td>\n",
       "      <td>None</td>\n",
       "      <td>1</td>\n",
       "      <td>5</td>\n",
       "      <td>300</td>\n",
       "      <td>{'max_depth': None, 'min_samples_leaf': 1, 'mi...</td>\n",
       "      <td>-0.015399</td>\n",
       "      <td>-0.013451</td>\n",
       "      <td>-0.013550</td>\n",
       "      <td>-0.013586</td>\n",
       "      <td>-0.015272</td>\n",
       "      <td>-0.014251</td>\n",
       "      <td>0.000887</td>\n",
       "      <td>1</td>\n",
       "    </tr>\n",
       "  </tbody>\n",
       "</table>\n",
       "<p>192 rows × 17 columns</p>\n",
       "</div>"
      ],
      "text/plain": [
       "     mean_fit_time  std_fit_time  mean_score_time  std_score_time  \\\n",
       "20        1.522346      0.102042         0.022793        0.000655   \n",
       "16        1.434276      0.009088         0.023491        0.000312   \n",
       "44        1.421619      0.073801         0.024025        0.001103   \n",
       "0         1.336007      0.029952         0.020885        0.000338   \n",
       "45        2.724822      0.022226         0.040162        0.000544   \n",
       "..             ...           ...              ...             ...   \n",
       "149      10.388941      0.026962         0.195625        0.010145   \n",
       "154      19.345692      0.015884         0.342022        0.016341   \n",
       "150      20.662497      0.054795         0.382711        0.024335   \n",
       "155      29.155055      0.068331         0.515122        0.025239   \n",
       "151      31.267943      0.123276         0.576736        0.025889   \n",
       "\n",
       "    param_max_depth param_min_samples_leaf param_min_samples_split  \\\n",
       "20                4                      3                       8   \n",
       "16                4                      3                       5   \n",
       "44                4                      8                       8   \n",
       "0                 4                      1                       2   \n",
       "45                4                      8                       8   \n",
       "..              ...                    ...                     ...   \n",
       "149            None                      1                       5   \n",
       "154            None                      1                       8   \n",
       "150            None                      1                       5   \n",
       "155            None                      1                       8   \n",
       "151            None                      1                       5   \n",
       "\n",
       "    param_n_estimators                                             params  \\\n",
       "20                  50  {'max_depth': 4, 'min_samples_leaf': 3, 'min_s...   \n",
       "16                  50  {'max_depth': 4, 'min_samples_leaf': 3, 'min_s...   \n",
       "44                  50  {'max_depth': 4, 'min_samples_leaf': 8, 'min_s...   \n",
       "0                   50  {'max_depth': 4, 'min_samples_leaf': 1, 'min_s...   \n",
       "45                 100  {'max_depth': 4, 'min_samples_leaf': 8, 'min_s...   \n",
       "..                 ...                                                ...   \n",
       "149                100  {'max_depth': None, 'min_samples_leaf': 1, 'mi...   \n",
       "154                200  {'max_depth': None, 'min_samples_leaf': 1, 'mi...   \n",
       "150                200  {'max_depth': None, 'min_samples_leaf': 1, 'mi...   \n",
       "155                300  {'max_depth': None, 'min_samples_leaf': 1, 'mi...   \n",
       "151                300  {'max_depth': None, 'min_samples_leaf': 1, 'mi...   \n",
       "\n",
       "     split0_test_score  split1_test_score  split2_test_score  \\\n",
       "20           -0.059680          -0.057884          -0.058369   \n",
       "16           -0.059772          -0.057847          -0.058610   \n",
       "44           -0.059682          -0.057776          -0.058601   \n",
       "0            -0.059738          -0.057774          -0.058339   \n",
       "45           -0.059635          -0.057617          -0.058390   \n",
       "..                 ...                ...                ...   \n",
       "149          -0.015310          -0.013556          -0.013715   \n",
       "154          -0.015470          -0.013402          -0.013533   \n",
       "150          -0.015373          -0.013520          -0.013672   \n",
       "155          -0.015371          -0.013478          -0.013601   \n",
       "151          -0.015399          -0.013451          -0.013550   \n",
       "\n",
       "     split3_test_score  split4_test_score  mean_test_score  std_test_score  \\\n",
       "20           -0.059829          -0.059759        -0.059104        0.000814   \n",
       "16           -0.059755          -0.059515        -0.059100        0.000757   \n",
       "44           -0.059848          -0.059533        -0.059088        0.000786   \n",
       "0            -0.059936          -0.059637        -0.059085        0.000864   \n",
       "45           -0.059942          -0.059615        -0.059040        0.000888   \n",
       "..                 ...                ...              ...             ...   \n",
       "149          -0.013640          -0.015161        -0.014276        0.000786   \n",
       "154          -0.013603          -0.015325        -0.014267        0.000927   \n",
       "150          -0.013608          -0.015147        -0.014264        0.000818   \n",
       "155          -0.013542          -0.015311        -0.014261        0.000883   \n",
       "151          -0.013586          -0.015272        -0.014251        0.000887   \n",
       "\n",
       "     rank_test_score  \n",
       "20               192  \n",
       "16               191  \n",
       "44               190  \n",
       "0                189  \n",
       "45               188  \n",
       "..               ...  \n",
       "149                5  \n",
       "154                4  \n",
       "150                3  \n",
       "155                2  \n",
       "151                1  \n",
       "\n",
       "[192 rows x 17 columns]"
      ]
     },
     "execution_count": 139,
     "metadata": {},
     "output_type": "execute_result"
    }
   ],
   "source": [
    "pd.DataFrame(clf.cv_results_).sort_values(by= 'mean_test_score')"
   ]
  },
  {
   "cell_type": "code",
   "execution_count": 69,
   "metadata": {},
   "outputs": [
    {
     "data": {
      "text/plain": [
       "{'max_depth': None,\n",
       " 'min_samples_leaf': 1,\n",
       " 'min_samples_split': 5,\n",
       " 'n_estimators': 300}"
      ]
     },
     "execution_count": 69,
     "metadata": {},
     "output_type": "execute_result"
    }
   ],
   "source": [
    "clf.best_params_"
   ]
  },
  {
   "cell_type": "code",
   "execution_count": 58,
   "metadata": {},
   "outputs": [
    {
     "data": {
      "text/plain": [
       "(0.003231829301071624, 0.0030090202286114664)"
      ]
     },
     "execution_count": 58,
     "metadata": {},
     "output_type": "execute_result"
    }
   ],
   "source": [
    "y_pred_train = best.predict(X_train)\n",
    "y_pred_test = best.predict(X_test)\n",
    "mse_train = mean_squared_error(y_pred_train,y_train)\n",
    "mse_test = mean_squared_error(y_pred_test,y_test)\n",
    "mse_train, mse_test"
   ]
  },
  {
   "cell_type": "code",
   "execution_count": 110,
   "metadata": {},
   "outputs": [
    {
     "data": {
      "text/plain": [
       "array([0.9847013 , 0.98632377, 0.98652563, 0.9874428 , 0.98699016,\n",
       "       0.98748219, 0.98718747, 0.98681834, 0.98634139, 0.9848181 ])"
      ]
     },
     "execution_count": 110,
     "metadata": {},
     "output_type": "execute_result"
    }
   ],
   "source": [
    "from sklearn.model_selection import cross_val_score\n",
    "cross_val_score(estimator=RandomForestRegressor(n_estimators=300), X=X, y=y, cv=10)"
   ]
  },
  {
   "cell_type": "code",
   "execution_count": 120,
   "metadata": {},
   "outputs": [
    {
     "data": {
      "text/plain": [
       "array([0.9848284 , 0.98623563, 0.98657646, 0.98754549, 0.98698618,\n",
       "       0.98747278, 0.98721218, 0.98663673, 0.98633558, 0.98471875])"
      ]
     },
     "execution_count": 120,
     "metadata": {},
     "output_type": "execute_result"
    }
   ],
   "source": [
    "from sklearn.model_selection import cross_val_score\n",
    "cross_val_score(estimator=RandomForestRegressor(n_estimators=200), X=X, y=y, cv=10)"
   ]
  },
  {
   "cell_type": "markdown",
   "metadata": {},
   "source": [
    "###  Increasing hyperparameters:"
   ]
  },
  {
   "cell_type": "code",
   "execution_count": 19,
   "metadata": {},
   "outputs": [],
   "source": [
    "from sklearn.model_selection import GridSearchCV\n",
    "model = RandomForestRegressor()\n",
    "params = {\n",
    "    'n_estimators' : [300, 500, 600],\n",
    "'max_depth' : [None],\n",
    "'min_samples_split' : [5],\n",
    "'min_samples_leaf' : [1]\n",
    "}\n",
    " "
   ]
  },
  {
   "cell_type": "code",
   "execution_count": 20,
   "metadata": {},
   "outputs": [],
   "source": [
    "adding_params = GridSearchCV(estimator=model, param_grid=params, verbose=2, n_jobs=6, scoring= 'neg_mean_squared_error')"
   ]
  },
  {
   "cell_type": "code",
   "execution_count": 21,
   "metadata": {},
   "outputs": [
    {
     "name": "stdout",
     "output_type": "stream",
     "text": [
      "Fitting 5 folds for each of 3 candidates, totalling 15 fits\n"
     ]
    },
    {
     "data": {
      "text/plain": [
       "GridSearchCV(estimator=RandomForestRegressor(), n_jobs=6,\n",
       "             param_grid={'max_depth': [None], 'min_samples_leaf': [1],\n",
       "                         'min_samples_split': [5],\n",
       "                         'n_estimators': [300, 500, 600]},\n",
       "             scoring='neg_mean_squared_error', verbose=2)"
      ]
     },
     "execution_count": 21,
     "metadata": {},
     "output_type": "execute_result"
    }
   ],
   "source": [
    "adding_params.fit(X, y)"
   ]
  },
  {
   "cell_type": "code",
   "execution_count": 62,
   "metadata": {},
   "outputs": [
    {
     "data": {
      "text/plain": [
       "RandomForestRegressor(min_samples_split=5, n_estimators=500)"
      ]
     },
     "execution_count": 62,
     "metadata": {},
     "output_type": "execute_result"
    }
   ],
   "source": [
    "best1 = adding_params.best_estimator_\n",
    "best1"
   ]
  },
  {
   "cell_type": "code",
   "execution_count": 23,
   "metadata": {},
   "outputs": [
    {
     "data": {
      "text/plain": [
       "{'max_depth': None,\n",
       " 'min_samples_leaf': 1,\n",
       " 'min_samples_split': 5,\n",
       " 'n_estimators': 500}"
      ]
     },
     "execution_count": 23,
     "metadata": {},
     "output_type": "execute_result"
    }
   ],
   "source": [
    "adding_params.best_params_"
   ]
  },
  {
   "cell_type": "code",
   "execution_count": 24,
   "metadata": {},
   "outputs": [
    {
     "data": {
      "text/plain": [
       "(0.004237168007806516, 0.004208411516965408)"
      ]
     },
     "execution_count": 24,
     "metadata": {},
     "output_type": "execute_result"
    }
   ],
   "source": [
    "y_pred_train = best.predict(X_train)\n",
    "y_pred_test = best.predict(X_test)\n",
    "mse_train = mean_squared_error(y_pred_train,y_train)\n",
    "mse_test = mean_squared_error(y_pred_test,y_test)\n",
    "mse_train, mse_test"
   ]
  },
  {
   "cell_type": "code",
   "execution_count": 26,
   "metadata": {},
   "outputs": [],
   "source": [
    "model = RandomForestRegressor()\n",
    "params = {\n",
    "    'n_estimators' : [500, 600],\n",
    "'max_depth' : [6, 8, None],\n",
    "'min_samples_split' : [5, 6, 7],\n",
    "'min_samples_leaf' : [1, 2, 3]\n",
    "}\n",
    " "
   ]
  },
  {
   "cell_type": "code",
   "execution_count": 27,
   "metadata": {},
   "outputs": [],
   "source": [
    "adding_depth = GridSearchCV(estimator=model, param_grid=params, verbose=2, n_jobs=6, scoring= 'neg_mean_squared_error')"
   ]
  },
  {
   "cell_type": "code",
   "execution_count": 28,
   "metadata": {},
   "outputs": [
    {
     "name": "stdout",
     "output_type": "stream",
     "text": [
      "Fitting 5 folds for each of 54 candidates, totalling 270 fits\n"
     ]
    },
    {
     "data": {
      "text/plain": [
       "GridSearchCV(estimator=RandomForestRegressor(), n_jobs=6,\n",
       "             param_grid={'max_depth': [6, 8, None],\n",
       "                         'min_samples_leaf': [1, 2, 3],\n",
       "                         'min_samples_split': [5, 6, 7],\n",
       "                         'n_estimators': [500, 600]},\n",
       "             scoring='neg_mean_squared_error', verbose=2)"
      ]
     },
     "execution_count": 28,
     "metadata": {},
     "output_type": "execute_result"
    }
   ],
   "source": [
    "adding_depth.fit(X, y)"
   ]
  },
  {
   "cell_type": "code",
   "execution_count": 37,
   "metadata": {},
   "outputs": [
    {
     "data": {
      "text/plain": [
       "RandomForestRegressor(min_samples_split=7, n_estimators=600)"
      ]
     },
     "execution_count": 37,
     "metadata": {},
     "output_type": "execute_result"
    }
   ],
   "source": [
    "best = adding_depth.best_estimator_\n",
    "best"
   ]
  },
  {
   "cell_type": "code",
   "execution_count": 38,
   "metadata": {},
   "outputs": [
    {
     "data": {
      "text/plain": [
       "{'max_depth': None,\n",
       " 'min_samples_leaf': 1,\n",
       " 'min_samples_split': 7,\n",
       " 'n_estimators': 600}"
      ]
     },
     "execution_count": 38,
     "metadata": {},
     "output_type": "execute_result"
    }
   ],
   "source": [
    "adding_depth.best_params_"
   ]
  },
  {
   "cell_type": "code",
   "execution_count": 39,
   "metadata": {},
   "outputs": [
    {
     "data": {
      "text/plain": [
       "(0.005107867383039515, 0.005093827248930206)"
      ]
     },
     "execution_count": 39,
     "metadata": {},
     "output_type": "execute_result"
    }
   ],
   "source": [
    "y_pred_train = best.predict(X_train)\n",
    "y_pred_test = best.predict(X_test)\n",
    "mse_train = mean_squared_error(y_pred_train,y_train)\n",
    "mse_test = mean_squared_error(y_pred_test,y_test)\n",
    "mse_train, mse_test"
   ]
  },
  {
   "cell_type": "code",
   "execution_count": null,
   "metadata": {},
   "outputs": [],
   "source": []
  },
  {
   "cell_type": "code",
   "execution_count": null,
   "metadata": {},
   "outputs": [],
   "source": []
  },
  {
   "cell_type": "code",
   "execution_count": 32,
   "metadata": {},
   "outputs": [],
   "source": [
    "model = RandomForestRegressor()\n",
    "params = {\n",
    "    'n_estimators' : [600, 700, 800],\n",
    "'max_depth' : [ None],\n",
    "'min_samples_split' : [7, 8, 9],\n",
    "'min_samples_leaf' : [1]\n",
    "}\n",
    " "
   ]
  },
  {
   "cell_type": "code",
   "execution_count": 33,
   "metadata": {},
   "outputs": [],
   "source": [
    "adding_split = GridSearchCV(estimator=model, param_grid=params, verbose=2, n_jobs=6, scoring= 'neg_mean_squared_error')"
   ]
  },
  {
   "cell_type": "code",
   "execution_count": 34,
   "metadata": {},
   "outputs": [
    {
     "name": "stdout",
     "output_type": "stream",
     "text": [
      "Fitting 5 folds for each of 9 candidates, totalling 45 fits\n"
     ]
    },
    {
     "data": {
      "text/plain": [
       "GridSearchCV(estimator=RandomForestRegressor(), n_jobs=6,\n",
       "             param_grid={'max_depth': [None], 'min_samples_leaf': [1],\n",
       "                         'min_samples_split': [7, 8, 9],\n",
       "                         'n_estimators': [600, 700, 800]},\n",
       "             scoring='neg_mean_squared_error', verbose=2)"
      ]
     },
     "execution_count": 34,
     "metadata": {},
     "output_type": "execute_result"
    }
   ],
   "source": [
    "adding_split.fit(X, y)"
   ]
  },
  {
   "cell_type": "code",
   "execution_count": 40,
   "metadata": {},
   "outputs": [
    {
     "data": {
      "text/plain": [
       "RandomForestRegressor(min_samples_split=9, n_estimators=700)"
      ]
     },
     "execution_count": 40,
     "metadata": {},
     "output_type": "execute_result"
    }
   ],
   "source": [
    "best = adding_split.best_estimator_\n",
    "best"
   ]
  },
  {
   "cell_type": "code",
   "execution_count": 41,
   "metadata": {},
   "outputs": [
    {
     "data": {
      "text/plain": [
       "{'max_depth': None,\n",
       " 'min_samples_leaf': 1,\n",
       " 'min_samples_split': 9,\n",
       " 'n_estimators': 700}"
      ]
     },
     "execution_count": 41,
     "metadata": {},
     "output_type": "execute_result"
    }
   ],
   "source": [
    "adding_split.best_params_"
   ]
  },
  {
   "cell_type": "code",
   "execution_count": 42,
   "metadata": {},
   "outputs": [
    {
     "data": {
      "text/plain": [
       "(0.005835017338660098, 0.005835391892677082)"
      ]
     },
     "execution_count": 42,
     "metadata": {},
     "output_type": "execute_result"
    }
   ],
   "source": [
    "y_pred_train = best.predict(X_train)\n",
    "y_pred_test = best.predict(X_test)\n",
    "mse_train = mean_squared_error(y_pred_train,y_train)\n",
    "mse_test = mean_squared_error(y_pred_test,y_test)\n",
    "mse_train, mse_test"
   ]
  },
  {
   "cell_type": "code",
   "execution_count": null,
   "metadata": {},
   "outputs": [],
   "source": []
  },
  {
   "cell_type": "code",
   "execution_count": null,
   "metadata": {},
   "outputs": [],
   "source": []
  },
  {
   "cell_type": "code",
   "execution_count": 53,
   "metadata": {},
   "outputs": [],
   "source": [
    "model = RandomForestRegressor()\n",
    "params = {\n",
    "    'n_estimators' : [700],\n",
    "'max_depth' : [ None],\n",
    "'min_samples_split' : [ 9, 10, 15],\n",
    "'min_samples_leaf' : [1]\n",
    "}\n",
    " "
   ]
  },
  {
   "cell_type": "code",
   "execution_count": 54,
   "metadata": {},
   "outputs": [],
   "source": [
    "adding_splt = GridSearchCV(estimator=model, param_grid=params, verbose=2, n_jobs=6, scoring= 'neg_mean_squared_error')"
   ]
  },
  {
   "cell_type": "code",
   "execution_count": 55,
   "metadata": {},
   "outputs": [
    {
     "name": "stdout",
     "output_type": "stream",
     "text": [
      "Fitting 5 folds for each of 3 candidates, totalling 15 fits\n"
     ]
    },
    {
     "data": {
      "text/plain": [
       "GridSearchCV(estimator=RandomForestRegressor(), n_jobs=6,\n",
       "             param_grid={'max_depth': [None], 'min_samples_leaf': [1],\n",
       "                         'min_samples_split': [9, 10, 15],\n",
       "                         'n_estimators': [700]},\n",
       "             scoring='neg_mean_squared_error', verbose=2)"
      ]
     },
     "execution_count": 55,
     "metadata": {},
     "output_type": "execute_result"
    }
   ],
   "source": [
    "adding_splt.fit(X, y)"
   ]
  },
  {
   "cell_type": "code",
   "execution_count": 56,
   "metadata": {},
   "outputs": [
    {
     "data": {
      "text/plain": [
       "RandomForestRegressor(min_samples_split=10, n_estimators=700)"
      ]
     },
     "execution_count": 56,
     "metadata": {},
     "output_type": "execute_result"
    }
   ],
   "source": [
    "best = adding_splt.best_estimator_\n",
    "best"
   ]
  },
  {
   "cell_type": "code",
   "execution_count": 57,
   "metadata": {},
   "outputs": [
    {
     "data": {
      "text/plain": [
       "{'max_depth': None,\n",
       " 'min_samples_leaf': 1,\n",
       " 'min_samples_split': 10,\n",
       " 'n_estimators': 700}"
      ]
     },
     "execution_count": 57,
     "metadata": {},
     "output_type": "execute_result"
    }
   ],
   "source": [
    "adding_splt.best_params_"
   ]
  },
  {
   "cell_type": "code",
   "execution_count": 58,
   "metadata": {},
   "outputs": [
    {
     "data": {
      "text/plain": [
       "(0.006158697218028201, 0.006173011639982473)"
      ]
     },
     "execution_count": 58,
     "metadata": {},
     "output_type": "execute_result"
    }
   ],
   "source": [
    "y_pred_train = best.predict(X_train)\n",
    "y_pred_test = best.predict(X_test)\n",
    "mse_train = mean_squared_error(y_pred_train,y_train)\n",
    "mse_test = mean_squared_error(y_pred_test,y_test)\n",
    "mse_train, mse_test"
   ]
  },
  {
   "cell_type": "markdown",
   "metadata": {},
   "source": [
    "#### Changing test.csv accordingly:"
   ]
  },
  {
   "cell_type": "code",
   "execution_count": 44,
   "metadata": {},
   "outputs": [
    {
     "data": {
      "text/html": [
       "<div>\n",
       "<style scoped>\n",
       "    .dataframe tbody tr th:only-of-type {\n",
       "        vertical-align: middle;\n",
       "    }\n",
       "\n",
       "    .dataframe tbody tr th {\n",
       "        vertical-align: top;\n",
       "    }\n",
       "\n",
       "    .dataframe thead th {\n",
       "        text-align: right;\n",
       "    }\n",
       "</style>\n",
       "<table border=\"1\" class=\"dataframe\">\n",
       "  <thead>\n",
       "    <tr style=\"text-align: right;\">\n",
       "      <th></th>\n",
       "      <th>id</th>\n",
       "      <th>carat</th>\n",
       "      <th>cut</th>\n",
       "      <th>color</th>\n",
       "      <th>clarity</th>\n",
       "      <th>depth</th>\n",
       "      <th>table</th>\n",
       "      <th>x</th>\n",
       "      <th>y</th>\n",
       "      <th>z</th>\n",
       "    </tr>\n",
       "  </thead>\n",
       "  <tbody>\n",
       "    <tr>\n",
       "      <th>0</th>\n",
       "      <td>0</td>\n",
       "      <td>0.51</td>\n",
       "      <td>Very Good</td>\n",
       "      <td>E</td>\n",
       "      <td>SI2</td>\n",
       "      <td>58.3</td>\n",
       "      <td>61.9</td>\n",
       "      <td>5.19</td>\n",
       "      <td>5.20</td>\n",
       "      <td>3.04</td>\n",
       "    </tr>\n",
       "    <tr>\n",
       "      <th>1</th>\n",
       "      <td>1</td>\n",
       "      <td>1.02</td>\n",
       "      <td>Very Good</td>\n",
       "      <td>F</td>\n",
       "      <td>SI2</td>\n",
       "      <td>63.0</td>\n",
       "      <td>58.0</td>\n",
       "      <td>6.37</td>\n",
       "      <td>6.43</td>\n",
       "      <td>4.03</td>\n",
       "    </tr>\n",
       "    <tr>\n",
       "      <th>2</th>\n",
       "      <td>2</td>\n",
       "      <td>0.59</td>\n",
       "      <td>Ideal</td>\n",
       "      <td>D</td>\n",
       "      <td>VS2</td>\n",
       "      <td>61.9</td>\n",
       "      <td>56.0</td>\n",
       "      <td>5.39</td>\n",
       "      <td>5.34</td>\n",
       "      <td>3.32</td>\n",
       "    </tr>\n",
       "    <tr>\n",
       "      <th>3</th>\n",
       "      <td>3</td>\n",
       "      <td>0.90</td>\n",
       "      <td>Very Good</td>\n",
       "      <td>D</td>\n",
       "      <td>VS2</td>\n",
       "      <td>62.3</td>\n",
       "      <td>56.0</td>\n",
       "      <td>6.14</td>\n",
       "      <td>6.18</td>\n",
       "      <td>3.84</td>\n",
       "    </tr>\n",
       "    <tr>\n",
       "      <th>4</th>\n",
       "      <td>4</td>\n",
       "      <td>2.01</td>\n",
       "      <td>Premium</td>\n",
       "      <td>J</td>\n",
       "      <td>VS1</td>\n",
       "      <td>60.2</td>\n",
       "      <td>61.0</td>\n",
       "      <td>8.23</td>\n",
       "      <td>8.16</td>\n",
       "      <td>4.93</td>\n",
       "    </tr>\n",
       "    <tr>\n",
       "      <th>...</th>\n",
       "      <td>...</td>\n",
       "      <td>...</td>\n",
       "      <td>...</td>\n",
       "      <td>...</td>\n",
       "      <td>...</td>\n",
       "      <td>...</td>\n",
       "      <td>...</td>\n",
       "      <td>...</td>\n",
       "      <td>...</td>\n",
       "      <td>...</td>\n",
       "    </tr>\n",
       "    <tr>\n",
       "      <th>13480</th>\n",
       "      <td>13480</td>\n",
       "      <td>1.05</td>\n",
       "      <td>Premium</td>\n",
       "      <td>H</td>\n",
       "      <td>SI1</td>\n",
       "      <td>61.9</td>\n",
       "      <td>58.0</td>\n",
       "      <td>6.50</td>\n",
       "      <td>6.45</td>\n",
       "      <td>4.01</td>\n",
       "    </tr>\n",
       "    <tr>\n",
       "      <th>13481</th>\n",
       "      <td>13481</td>\n",
       "      <td>0.32</td>\n",
       "      <td>Ideal</td>\n",
       "      <td>F</td>\n",
       "      <td>VS2</td>\n",
       "      <td>62.1</td>\n",
       "      <td>57.0</td>\n",
       "      <td>4.35</td>\n",
       "      <td>4.38</td>\n",
       "      <td>2.71</td>\n",
       "    </tr>\n",
       "    <tr>\n",
       "      <th>13482</th>\n",
       "      <td>13482</td>\n",
       "      <td>0.41</td>\n",
       "      <td>Premium</td>\n",
       "      <td>J</td>\n",
       "      <td>VS1</td>\n",
       "      <td>61.3</td>\n",
       "      <td>59.0</td>\n",
       "      <td>4.78</td>\n",
       "      <td>4.74</td>\n",
       "      <td>2.92</td>\n",
       "    </tr>\n",
       "    <tr>\n",
       "      <th>13483</th>\n",
       "      <td>13483</td>\n",
       "      <td>0.30</td>\n",
       "      <td>Premium</td>\n",
       "      <td>G</td>\n",
       "      <td>VVS2</td>\n",
       "      <td>62.2</td>\n",
       "      <td>59.0</td>\n",
       "      <td>4.31</td>\n",
       "      <td>4.28</td>\n",
       "      <td>2.67</td>\n",
       "    </tr>\n",
       "    <tr>\n",
       "      <th>13484</th>\n",
       "      <td>13484</td>\n",
       "      <td>0.72</td>\n",
       "      <td>Ideal</td>\n",
       "      <td>G</td>\n",
       "      <td>VVS2</td>\n",
       "      <td>61.3</td>\n",
       "      <td>56.0</td>\n",
       "      <td>5.76</td>\n",
       "      <td>5.80</td>\n",
       "      <td>3.54</td>\n",
       "    </tr>\n",
       "  </tbody>\n",
       "</table>\n",
       "<p>13485 rows × 10 columns</p>\n",
       "</div>"
      ],
      "text/plain": [
       "          id  carat        cut color clarity  depth  table     x     y     z\n",
       "0          0   0.51  Very Good     E     SI2   58.3   61.9  5.19  5.20  3.04\n",
       "1          1   1.02  Very Good     F     SI2   63.0   58.0  6.37  6.43  4.03\n",
       "2          2   0.59      Ideal     D     VS2   61.9   56.0  5.39  5.34  3.32\n",
       "3          3   0.90  Very Good     D     VS2   62.3   56.0  6.14  6.18  3.84\n",
       "4          4   2.01    Premium     J     VS1   60.2   61.0  8.23  8.16  4.93\n",
       "...      ...    ...        ...   ...     ...    ...    ...   ...   ...   ...\n",
       "13480  13480   1.05    Premium     H     SI1   61.9   58.0  6.50  6.45  4.01\n",
       "13481  13481   0.32      Ideal     F     VS2   62.1   57.0  4.35  4.38  2.71\n",
       "13482  13482   0.41    Premium     J     VS1   61.3   59.0  4.78  4.74  2.92\n",
       "13483  13483   0.30    Premium     G    VVS2   62.2   59.0  4.31  4.28  2.67\n",
       "13484  13484   0.72      Ideal     G    VVS2   61.3   56.0  5.76  5.80  3.54\n",
       "\n",
       "[13485 rows x 10 columns]"
      ]
     },
     "execution_count": 44,
     "metadata": {},
     "output_type": "execute_result"
    }
   ],
   "source": [
    "test_df"
   ]
  },
  {
   "cell_type": "code",
   "execution_count": 45,
   "metadata": {},
   "outputs": [],
   "source": [
    "del test_df['x']\n",
    "del test_df['y']\n",
    "del test_df['z']\n",
    "del test_df['id']"
   ]
  },
  {
   "cell_type": "markdown",
   "metadata": {},
   "source": [
    "### Let´s convert the objects into ordinal values:"
   ]
  },
  {
   "cell_type": "code",
   "execution_count": 46,
   "metadata": {},
   "outputs": [
    {
     "data": {
      "text/plain": [
       "array(['SI2', 'VS2', 'VS1', 'SI1', 'VVS1', 'VVS2', 'I1', 'IF'],\n",
       "      dtype=object)"
      ]
     },
     "execution_count": 46,
     "metadata": {},
     "output_type": "execute_result"
    }
   ],
   "source": [
    "test_df.clarity.unique()"
   ]
  },
  {
   "cell_type": "code",
   "execution_count": 47,
   "metadata": {},
   "outputs": [
    {
     "data": {
      "text/plain": [
       "array(['Very Good', 'Ideal', 'Premium', 'Good', 'Fair'], dtype=object)"
      ]
     },
     "execution_count": 47,
     "metadata": {},
     "output_type": "execute_result"
    }
   ],
   "source": [
    "test_df.cut.unique()"
   ]
  },
  {
   "cell_type": "code",
   "execution_count": 48,
   "metadata": {},
   "outputs": [
    {
     "data": {
      "text/plain": [
       "array(['E', 'F', 'D', 'J', 'G', 'I', 'H'], dtype=object)"
      ]
     },
     "execution_count": 48,
     "metadata": {},
     "output_type": "execute_result"
    }
   ],
   "source": [
    "test_df.color.unique()"
   ]
  },
  {
   "cell_type": "code",
   "execution_count": 49,
   "metadata": {},
   "outputs": [],
   "source": [
    "encod = {\n",
    "    \"Fair\":1,\n",
    "    \"Ideal\":2,\n",
    "    \"Good\":3,\n",
    "    \"Very Good\":4,\n",
    "    \"Premium\":5\n",
    "}"
   ]
  },
  {
   "cell_type": "code",
   "execution_count": 50,
   "metadata": {},
   "outputs": [
    {
     "data": {
      "text/html": [
       "<div>\n",
       "<style scoped>\n",
       "    .dataframe tbody tr th:only-of-type {\n",
       "        vertical-align: middle;\n",
       "    }\n",
       "\n",
       "    .dataframe tbody tr th {\n",
       "        vertical-align: top;\n",
       "    }\n",
       "\n",
       "    .dataframe thead th {\n",
       "        text-align: right;\n",
       "    }\n",
       "</style>\n",
       "<table border=\"1\" class=\"dataframe\">\n",
       "  <thead>\n",
       "    <tr style=\"text-align: right;\">\n",
       "      <th></th>\n",
       "      <th>carat</th>\n",
       "      <th>cut</th>\n",
       "      <th>color</th>\n",
       "      <th>clarity</th>\n",
       "      <th>depth</th>\n",
       "      <th>table</th>\n",
       "    </tr>\n",
       "  </thead>\n",
       "  <tbody>\n",
       "    <tr>\n",
       "      <th>0</th>\n",
       "      <td>0.51</td>\n",
       "      <td>4</td>\n",
       "      <td>E</td>\n",
       "      <td>SI2</td>\n",
       "      <td>58.3</td>\n",
       "      <td>61.9</td>\n",
       "    </tr>\n",
       "    <tr>\n",
       "      <th>1</th>\n",
       "      <td>1.02</td>\n",
       "      <td>4</td>\n",
       "      <td>F</td>\n",
       "      <td>SI2</td>\n",
       "      <td>63.0</td>\n",
       "      <td>58.0</td>\n",
       "    </tr>\n",
       "    <tr>\n",
       "      <th>2</th>\n",
       "      <td>0.59</td>\n",
       "      <td>2</td>\n",
       "      <td>D</td>\n",
       "      <td>VS2</td>\n",
       "      <td>61.9</td>\n",
       "      <td>56.0</td>\n",
       "    </tr>\n",
       "    <tr>\n",
       "      <th>3</th>\n",
       "      <td>0.90</td>\n",
       "      <td>4</td>\n",
       "      <td>D</td>\n",
       "      <td>VS2</td>\n",
       "      <td>62.3</td>\n",
       "      <td>56.0</td>\n",
       "    </tr>\n",
       "    <tr>\n",
       "      <th>4</th>\n",
       "      <td>2.01</td>\n",
       "      <td>5</td>\n",
       "      <td>J</td>\n",
       "      <td>VS1</td>\n",
       "      <td>60.2</td>\n",
       "      <td>61.0</td>\n",
       "    </tr>\n",
       "  </tbody>\n",
       "</table>\n",
       "</div>"
      ],
      "text/plain": [
       "   carat  cut color clarity  depth  table\n",
       "0   0.51    4     E     SI2   58.3   61.9\n",
       "1   1.02    4     F     SI2   63.0   58.0\n",
       "2   0.59    2     D     VS2   61.9   56.0\n",
       "3   0.90    4     D     VS2   62.3   56.0\n",
       "4   2.01    5     J     VS1   60.2   61.0"
      ]
     },
     "execution_count": 50,
     "metadata": {},
     "output_type": "execute_result"
    }
   ],
   "source": [
    "test_df[\"cut\"] = test_df[\"cut\"].apply(lambda x: encod[x])\n",
    "test_df.head()"
   ]
  },
  {
   "cell_type": "code",
   "execution_count": 51,
   "metadata": {},
   "outputs": [],
   "source": [
    "test_dummies = pd.get_dummies(test_df, columns=[ \"color\", \"clarity\"], drop_first=True)"
   ]
  },
  {
   "cell_type": "code",
   "execution_count": 71,
   "metadata": {},
   "outputs": [],
   "source": [
    "prediction_comparison = pd.DataFrame(y)"
   ]
  },
  {
   "cell_type": "code",
   "execution_count": 72,
   "metadata": {},
   "outputs": [
    {
     "data": {
      "text/html": [
       "<div>\n",
       "<style scoped>\n",
       "    .dataframe tbody tr th:only-of-type {\n",
       "        vertical-align: middle;\n",
       "    }\n",
       "\n",
       "    .dataframe tbody tr th {\n",
       "        vertical-align: top;\n",
       "    }\n",
       "\n",
       "    .dataframe thead th {\n",
       "        text-align: right;\n",
       "    }\n",
       "</style>\n",
       "<table border=\"1\" class=\"dataframe\">\n",
       "  <thead>\n",
       "    <tr style=\"text-align: right;\">\n",
       "      <th></th>\n",
       "      <th>price</th>\n",
       "    </tr>\n",
       "  </thead>\n",
       "  <tbody>\n",
       "    <tr>\n",
       "      <th>0</th>\n",
       "      <td>9.588</td>\n",
       "    </tr>\n",
       "    <tr>\n",
       "      <th>1</th>\n",
       "      <td>9.748</td>\n",
       "    </tr>\n",
       "    <tr>\n",
       "      <th>2</th>\n",
       "      <td>7.255</td>\n",
       "    </tr>\n",
       "    <tr>\n",
       "      <th>3</th>\n",
       "      <td>6.450</td>\n",
       "    </tr>\n",
       "    <tr>\n",
       "      <th>4</th>\n",
       "      <td>7.721</td>\n",
       "    </tr>\n",
       "    <tr>\n",
       "      <th>...</th>\n",
       "      <td>...</td>\n",
       "    </tr>\n",
       "    <tr>\n",
       "      <th>40450</th>\n",
       "      <td>8.190</td>\n",
       "    </tr>\n",
       "    <tr>\n",
       "      <th>40451</th>\n",
       "      <td>7.246</td>\n",
       "    </tr>\n",
       "    <tr>\n",
       "      <th>40452</th>\n",
       "      <td>9.277</td>\n",
       "    </tr>\n",
       "    <tr>\n",
       "      <th>40453</th>\n",
       "      <td>9.680</td>\n",
       "    </tr>\n",
       "    <tr>\n",
       "      <th>40454</th>\n",
       "      <td>7.154</td>\n",
       "    </tr>\n",
       "  </tbody>\n",
       "</table>\n",
       "<p>40455 rows × 1 columns</p>\n",
       "</div>"
      ],
      "text/plain": [
       "       price\n",
       "0      9.588\n",
       "1      9.748\n",
       "2      7.255\n",
       "3      6.450\n",
       "4      7.721\n",
       "...      ...\n",
       "40450  8.190\n",
       "40451  7.246\n",
       "40452  9.277\n",
       "40453  9.680\n",
       "40454  7.154\n",
       "\n",
       "[40455 rows x 1 columns]"
      ]
     },
     "execution_count": 72,
     "metadata": {},
     "output_type": "execute_result"
    }
   ],
   "source": [
    "prediction_comparison"
   ]
  },
  {
   "cell_type": "code",
   "execution_count": 59,
   "metadata": {},
   "outputs": [],
   "source": [
    "predicted_price =  best.predict(test_dummies)"
   ]
  },
  {
   "cell_type": "code",
   "execution_count": 60,
   "metadata": {},
   "outputs": [
    {
     "data": {
      "text/plain": [
       "array([7.07609144, 8.3297846 , 7.68721107, ..., 6.60474194, 6.67258747,\n",
       "       8.07114936])"
      ]
     },
     "execution_count": 60,
     "metadata": {},
     "output_type": "execute_result"
    }
   ],
   "source": [
    "predicted_price"
   ]
  },
  {
   "cell_type": "code",
   "execution_count": 63,
   "metadata": {},
   "outputs": [],
   "source": [
    "predicted_price =  best1.predict(test_dummies)"
   ]
  },
  {
   "cell_type": "code",
   "execution_count": 64,
   "metadata": {},
   "outputs": [
    {
     "data": {
      "text/plain": [
       "array([7.08086265, 8.33237133, 7.69934369, ..., 6.6120798 , 6.64376183,\n",
       "       8.06584193])"
      ]
     },
     "execution_count": 64,
     "metadata": {},
     "output_type": "execute_result"
    }
   ],
   "source": [
    "predicted_price"
   ]
  },
  {
   "cell_type": "code",
   "execution_count": 81,
   "metadata": {},
   "outputs": [
    {
     "data": {
      "text/plain": [
       "0            0\n",
       "1            1\n",
       "2            2\n",
       "3            3\n",
       "4            4\n",
       "         ...  \n",
       "13480    13480\n",
       "13481    13481\n",
       "13482    13482\n",
       "13483    13483\n",
       "13484    13484\n",
       "Name: id, Length: 13485, dtype: int64"
      ]
     },
     "execution_count": 81,
     "metadata": {},
     "output_type": "execute_result"
    }
   ],
   "source": [
    "test_dummies.id"
   ]
  },
  {
   "cell_type": "code",
   "execution_count": 82,
   "metadata": {},
   "outputs": [],
   "source": [
    "predicting = pd.DataFrame(test_dummies.id)"
   ]
  },
  {
   "cell_type": "code",
   "execution_count": 83,
   "metadata": {},
   "outputs": [],
   "source": [
    "predicting['price']  = best.predict(test_dummies)"
   ]
  },
  {
   "cell_type": "code",
   "execution_count": 85,
   "metadata": {},
   "outputs": [],
   "source": [
    "predicting.to_csv('submission_diamons.csv', index=False)"
   ]
  },
  {
   "cell_type": "code",
   "execution_count": 103,
   "metadata": {},
   "outputs": [],
   "source": [
    "train_2 = pd.read_csv('diamonds_data/train.csv')\n",
    "test_2 =  pd.read_csv('diamonds_data/test.csv')"
   ]
  },
  {
   "cell_type": "code",
   "execution_count": 104,
   "metadata": {},
   "outputs": [
    {
     "data": {
      "text/html": [
       "<div>\n",
       "<style scoped>\n",
       "    .dataframe tbody tr th:only-of-type {\n",
       "        vertical-align: middle;\n",
       "    }\n",
       "\n",
       "    .dataframe tbody tr th {\n",
       "        vertical-align: top;\n",
       "    }\n",
       "\n",
       "    .dataframe thead th {\n",
       "        text-align: right;\n",
       "    }\n",
       "</style>\n",
       "<table border=\"1\" class=\"dataframe\">\n",
       "  <thead>\n",
       "    <tr style=\"text-align: right;\">\n",
       "      <th></th>\n",
       "      <th>id</th>\n",
       "      <th>carat</th>\n",
       "      <th>cut</th>\n",
       "      <th>color</th>\n",
       "      <th>clarity</th>\n",
       "      <th>depth</th>\n",
       "      <th>table</th>\n",
       "      <th>x</th>\n",
       "      <th>y</th>\n",
       "      <th>z</th>\n",
       "      <th>price</th>\n",
       "    </tr>\n",
       "  </thead>\n",
       "  <tbody>\n",
       "    <tr>\n",
       "      <th>0</th>\n",
       "      <td>0</td>\n",
       "      <td>1.50</td>\n",
       "      <td>Premium</td>\n",
       "      <td>F</td>\n",
       "      <td>VS2</td>\n",
       "      <td>61.5</td>\n",
       "      <td>58.0</td>\n",
       "      <td>7.32</td>\n",
       "      <td>7.34</td>\n",
       "      <td>4.51</td>\n",
       "      <td>9.588</td>\n",
       "    </tr>\n",
       "    <tr>\n",
       "      <th>1</th>\n",
       "      <td>1</td>\n",
       "      <td>2.01</td>\n",
       "      <td>Very Good</td>\n",
       "      <td>E</td>\n",
       "      <td>SI2</td>\n",
       "      <td>60.6</td>\n",
       "      <td>59.0</td>\n",
       "      <td>8.11</td>\n",
       "      <td>8.25</td>\n",
       "      <td>4.96</td>\n",
       "      <td>9.748</td>\n",
       "    </tr>\n",
       "    <tr>\n",
       "      <th>2</th>\n",
       "      <td>2</td>\n",
       "      <td>0.50</td>\n",
       "      <td>Ideal</td>\n",
       "      <td>E</td>\n",
       "      <td>SI1</td>\n",
       "      <td>61.6</td>\n",
       "      <td>57.0</td>\n",
       "      <td>5.13</td>\n",
       "      <td>5.09</td>\n",
       "      <td>3.15</td>\n",
       "      <td>7.255</td>\n",
       "    </tr>\n",
       "    <tr>\n",
       "      <th>3</th>\n",
       "      <td>3</td>\n",
       "      <td>0.25</td>\n",
       "      <td>Very Good</td>\n",
       "      <td>F</td>\n",
       "      <td>VVS2</td>\n",
       "      <td>61.6</td>\n",
       "      <td>57.0</td>\n",
       "      <td>4.05</td>\n",
       "      <td>4.08</td>\n",
       "      <td>2.50</td>\n",
       "      <td>6.450</td>\n",
       "    </tr>\n",
       "    <tr>\n",
       "      <th>4</th>\n",
       "      <td>4</td>\n",
       "      <td>0.52</td>\n",
       "      <td>Ideal</td>\n",
       "      <td>G</td>\n",
       "      <td>VS2</td>\n",
       "      <td>62.0</td>\n",
       "      <td>55.0</td>\n",
       "      <td>5.16</td>\n",
       "      <td>5.19</td>\n",
       "      <td>3.21</td>\n",
       "      <td>7.721</td>\n",
       "    </tr>\n",
       "    <tr>\n",
       "      <th>...</th>\n",
       "      <td>...</td>\n",
       "      <td>...</td>\n",
       "      <td>...</td>\n",
       "      <td>...</td>\n",
       "      <td>...</td>\n",
       "      <td>...</td>\n",
       "      <td>...</td>\n",
       "      <td>...</td>\n",
       "      <td>...</td>\n",
       "      <td>...</td>\n",
       "      <td>...</td>\n",
       "    </tr>\n",
       "    <tr>\n",
       "      <th>40450</th>\n",
       "      <td>40450</td>\n",
       "      <td>1.04</td>\n",
       "      <td>Very Good</td>\n",
       "      <td>I</td>\n",
       "      <td>SI2</td>\n",
       "      <td>59.6</td>\n",
       "      <td>57.0</td>\n",
       "      <td>6.60</td>\n",
       "      <td>6.62</td>\n",
       "      <td>3.94</td>\n",
       "      <td>8.190</td>\n",
       "    </tr>\n",
       "    <tr>\n",
       "      <th>40451</th>\n",
       "      <td>40451</td>\n",
       "      <td>0.51</td>\n",
       "      <td>Very Good</td>\n",
       "      <td>E</td>\n",
       "      <td>SI1</td>\n",
       "      <td>63.3</td>\n",
       "      <td>59.0</td>\n",
       "      <td>5.09</td>\n",
       "      <td>5.05</td>\n",
       "      <td>3.21</td>\n",
       "      <td>7.246</td>\n",
       "    </tr>\n",
       "    <tr>\n",
       "      <th>40452</th>\n",
       "      <td>40452</td>\n",
       "      <td>1.51</td>\n",
       "      <td>Ideal</td>\n",
       "      <td>H</td>\n",
       "      <td>VS2</td>\n",
       "      <td>62.6</td>\n",
       "      <td>57.0</td>\n",
       "      <td>7.37</td>\n",
       "      <td>7.33</td>\n",
       "      <td>4.60</td>\n",
       "      <td>9.277</td>\n",
       "    </tr>\n",
       "    <tr>\n",
       "      <th>40453</th>\n",
       "      <td>40453</td>\n",
       "      <td>2.02</td>\n",
       "      <td>Premium</td>\n",
       "      <td>H</td>\n",
       "      <td>VS2</td>\n",
       "      <td>61.3</td>\n",
       "      <td>60.0</td>\n",
       "      <td>8.16</td>\n",
       "      <td>8.11</td>\n",
       "      <td>4.99</td>\n",
       "      <td>9.680</td>\n",
       "    </tr>\n",
       "    <tr>\n",
       "      <th>40454</th>\n",
       "      <td>40454</td>\n",
       "      <td>0.50</td>\n",
       "      <td>Fair</td>\n",
       "      <td>F</td>\n",
       "      <td>VS2</td>\n",
       "      <td>55.8</td>\n",
       "      <td>60.0</td>\n",
       "      <td>5.31</td>\n",
       "      <td>5.27</td>\n",
       "      <td>2.95</td>\n",
       "      <td>7.154</td>\n",
       "    </tr>\n",
       "  </tbody>\n",
       "</table>\n",
       "<p>40455 rows × 11 columns</p>\n",
       "</div>"
      ],
      "text/plain": [
       "          id  carat        cut color clarity  depth  table     x     y     z  \\\n",
       "0          0   1.50    Premium     F     VS2   61.5   58.0  7.32  7.34  4.51   \n",
       "1          1   2.01  Very Good     E     SI2   60.6   59.0  8.11  8.25  4.96   \n",
       "2          2   0.50      Ideal     E     SI1   61.6   57.0  5.13  5.09  3.15   \n",
       "3          3   0.25  Very Good     F    VVS2   61.6   57.0  4.05  4.08  2.50   \n",
       "4          4   0.52      Ideal     G     VS2   62.0   55.0  5.16  5.19  3.21   \n",
       "...      ...    ...        ...   ...     ...    ...    ...   ...   ...   ...   \n",
       "40450  40450   1.04  Very Good     I     SI2   59.6   57.0  6.60  6.62  3.94   \n",
       "40451  40451   0.51  Very Good     E     SI1   63.3   59.0  5.09  5.05  3.21   \n",
       "40452  40452   1.51      Ideal     H     VS2   62.6   57.0  7.37  7.33  4.60   \n",
       "40453  40453   2.02    Premium     H     VS2   61.3   60.0  8.16  8.11  4.99   \n",
       "40454  40454   0.50       Fair     F     VS2   55.8   60.0  5.31  5.27  2.95   \n",
       "\n",
       "       price  \n",
       "0      9.588  \n",
       "1      9.748  \n",
       "2      7.255  \n",
       "3      6.450  \n",
       "4      7.721  \n",
       "...      ...  \n",
       "40450  8.190  \n",
       "40451  7.246  \n",
       "40452  9.277  \n",
       "40453  9.680  \n",
       "40454  7.154  \n",
       "\n",
       "[40455 rows x 11 columns]"
      ]
     },
     "execution_count": 104,
     "metadata": {},
     "output_type": "execute_result"
    }
   ],
   "source": [
    "train_2"
   ]
  },
  {
   "cell_type": "code",
   "execution_count": 105,
   "metadata": {},
   "outputs": [],
   "source": [
    "train_2 = pd.get_dummies(train_2, columns=[ \"color\", \"clarity\"], drop_first=True)"
   ]
  },
  {
   "cell_type": "code",
   "execution_count": 107,
   "metadata": {},
   "outputs": [],
   "source": [
    "train_2[\"cut\"] = train_2[\"cut\"].apply(lambda x: encod[x])"
   ]
  },
  {
   "cell_type": "code",
   "execution_count": 108,
   "metadata": {},
   "outputs": [
    {
     "data": {
      "text/html": [
       "<div>\n",
       "<style scoped>\n",
       "    .dataframe tbody tr th:only-of-type {\n",
       "        vertical-align: middle;\n",
       "    }\n",
       "\n",
       "    .dataframe tbody tr th {\n",
       "        vertical-align: top;\n",
       "    }\n",
       "\n",
       "    .dataframe thead th {\n",
       "        text-align: right;\n",
       "    }\n",
       "</style>\n",
       "<table border=\"1\" class=\"dataframe\">\n",
       "  <thead>\n",
       "    <tr style=\"text-align: right;\">\n",
       "      <th></th>\n",
       "      <th>id</th>\n",
       "      <th>carat</th>\n",
       "      <th>cut</th>\n",
       "      <th>depth</th>\n",
       "      <th>table</th>\n",
       "      <th>x</th>\n",
       "      <th>y</th>\n",
       "      <th>z</th>\n",
       "      <th>price</th>\n",
       "      <th>color_E</th>\n",
       "      <th>...</th>\n",
       "      <th>color_H</th>\n",
       "      <th>color_I</th>\n",
       "      <th>color_J</th>\n",
       "      <th>clarity_IF</th>\n",
       "      <th>clarity_SI1</th>\n",
       "      <th>clarity_SI2</th>\n",
       "      <th>clarity_VS1</th>\n",
       "      <th>clarity_VS2</th>\n",
       "      <th>clarity_VVS1</th>\n",
       "      <th>clarity_VVS2</th>\n",
       "    </tr>\n",
       "  </thead>\n",
       "  <tbody>\n",
       "    <tr>\n",
       "      <th>0</th>\n",
       "      <td>0</td>\n",
       "      <td>1.50</td>\n",
       "      <td>5</td>\n",
       "      <td>61.5</td>\n",
       "      <td>58.0</td>\n",
       "      <td>7.32</td>\n",
       "      <td>7.34</td>\n",
       "      <td>4.51</td>\n",
       "      <td>9.588</td>\n",
       "      <td>0</td>\n",
       "      <td>...</td>\n",
       "      <td>0</td>\n",
       "      <td>0</td>\n",
       "      <td>0</td>\n",
       "      <td>0</td>\n",
       "      <td>0</td>\n",
       "      <td>0</td>\n",
       "      <td>0</td>\n",
       "      <td>1</td>\n",
       "      <td>0</td>\n",
       "      <td>0</td>\n",
       "    </tr>\n",
       "    <tr>\n",
       "      <th>1</th>\n",
       "      <td>1</td>\n",
       "      <td>2.01</td>\n",
       "      <td>4</td>\n",
       "      <td>60.6</td>\n",
       "      <td>59.0</td>\n",
       "      <td>8.11</td>\n",
       "      <td>8.25</td>\n",
       "      <td>4.96</td>\n",
       "      <td>9.748</td>\n",
       "      <td>1</td>\n",
       "      <td>...</td>\n",
       "      <td>0</td>\n",
       "      <td>0</td>\n",
       "      <td>0</td>\n",
       "      <td>0</td>\n",
       "      <td>0</td>\n",
       "      <td>1</td>\n",
       "      <td>0</td>\n",
       "      <td>0</td>\n",
       "      <td>0</td>\n",
       "      <td>0</td>\n",
       "    </tr>\n",
       "    <tr>\n",
       "      <th>2</th>\n",
       "      <td>2</td>\n",
       "      <td>0.50</td>\n",
       "      <td>2</td>\n",
       "      <td>61.6</td>\n",
       "      <td>57.0</td>\n",
       "      <td>5.13</td>\n",
       "      <td>5.09</td>\n",
       "      <td>3.15</td>\n",
       "      <td>7.255</td>\n",
       "      <td>1</td>\n",
       "      <td>...</td>\n",
       "      <td>0</td>\n",
       "      <td>0</td>\n",
       "      <td>0</td>\n",
       "      <td>0</td>\n",
       "      <td>1</td>\n",
       "      <td>0</td>\n",
       "      <td>0</td>\n",
       "      <td>0</td>\n",
       "      <td>0</td>\n",
       "      <td>0</td>\n",
       "    </tr>\n",
       "    <tr>\n",
       "      <th>3</th>\n",
       "      <td>3</td>\n",
       "      <td>0.25</td>\n",
       "      <td>4</td>\n",
       "      <td>61.6</td>\n",
       "      <td>57.0</td>\n",
       "      <td>4.05</td>\n",
       "      <td>4.08</td>\n",
       "      <td>2.50</td>\n",
       "      <td>6.450</td>\n",
       "      <td>0</td>\n",
       "      <td>...</td>\n",
       "      <td>0</td>\n",
       "      <td>0</td>\n",
       "      <td>0</td>\n",
       "      <td>0</td>\n",
       "      <td>0</td>\n",
       "      <td>0</td>\n",
       "      <td>0</td>\n",
       "      <td>0</td>\n",
       "      <td>0</td>\n",
       "      <td>1</td>\n",
       "    </tr>\n",
       "    <tr>\n",
       "      <th>4</th>\n",
       "      <td>4</td>\n",
       "      <td>0.52</td>\n",
       "      <td>2</td>\n",
       "      <td>62.0</td>\n",
       "      <td>55.0</td>\n",
       "      <td>5.16</td>\n",
       "      <td>5.19</td>\n",
       "      <td>3.21</td>\n",
       "      <td>7.721</td>\n",
       "      <td>0</td>\n",
       "      <td>...</td>\n",
       "      <td>0</td>\n",
       "      <td>0</td>\n",
       "      <td>0</td>\n",
       "      <td>0</td>\n",
       "      <td>0</td>\n",
       "      <td>0</td>\n",
       "      <td>0</td>\n",
       "      <td>1</td>\n",
       "      <td>0</td>\n",
       "      <td>0</td>\n",
       "    </tr>\n",
       "    <tr>\n",
       "      <th>...</th>\n",
       "      <td>...</td>\n",
       "      <td>...</td>\n",
       "      <td>...</td>\n",
       "      <td>...</td>\n",
       "      <td>...</td>\n",
       "      <td>...</td>\n",
       "      <td>...</td>\n",
       "      <td>...</td>\n",
       "      <td>...</td>\n",
       "      <td>...</td>\n",
       "      <td>...</td>\n",
       "      <td>...</td>\n",
       "      <td>...</td>\n",
       "      <td>...</td>\n",
       "      <td>...</td>\n",
       "      <td>...</td>\n",
       "      <td>...</td>\n",
       "      <td>...</td>\n",
       "      <td>...</td>\n",
       "      <td>...</td>\n",
       "      <td>...</td>\n",
       "    </tr>\n",
       "    <tr>\n",
       "      <th>40450</th>\n",
       "      <td>40450</td>\n",
       "      <td>1.04</td>\n",
       "      <td>4</td>\n",
       "      <td>59.6</td>\n",
       "      <td>57.0</td>\n",
       "      <td>6.60</td>\n",
       "      <td>6.62</td>\n",
       "      <td>3.94</td>\n",
       "      <td>8.190</td>\n",
       "      <td>0</td>\n",
       "      <td>...</td>\n",
       "      <td>0</td>\n",
       "      <td>1</td>\n",
       "      <td>0</td>\n",
       "      <td>0</td>\n",
       "      <td>0</td>\n",
       "      <td>1</td>\n",
       "      <td>0</td>\n",
       "      <td>0</td>\n",
       "      <td>0</td>\n",
       "      <td>0</td>\n",
       "    </tr>\n",
       "    <tr>\n",
       "      <th>40451</th>\n",
       "      <td>40451</td>\n",
       "      <td>0.51</td>\n",
       "      <td>4</td>\n",
       "      <td>63.3</td>\n",
       "      <td>59.0</td>\n",
       "      <td>5.09</td>\n",
       "      <td>5.05</td>\n",
       "      <td>3.21</td>\n",
       "      <td>7.246</td>\n",
       "      <td>1</td>\n",
       "      <td>...</td>\n",
       "      <td>0</td>\n",
       "      <td>0</td>\n",
       "      <td>0</td>\n",
       "      <td>0</td>\n",
       "      <td>1</td>\n",
       "      <td>0</td>\n",
       "      <td>0</td>\n",
       "      <td>0</td>\n",
       "      <td>0</td>\n",
       "      <td>0</td>\n",
       "    </tr>\n",
       "    <tr>\n",
       "      <th>40452</th>\n",
       "      <td>40452</td>\n",
       "      <td>1.51</td>\n",
       "      <td>2</td>\n",
       "      <td>62.6</td>\n",
       "      <td>57.0</td>\n",
       "      <td>7.37</td>\n",
       "      <td>7.33</td>\n",
       "      <td>4.60</td>\n",
       "      <td>9.277</td>\n",
       "      <td>0</td>\n",
       "      <td>...</td>\n",
       "      <td>1</td>\n",
       "      <td>0</td>\n",
       "      <td>0</td>\n",
       "      <td>0</td>\n",
       "      <td>0</td>\n",
       "      <td>0</td>\n",
       "      <td>0</td>\n",
       "      <td>1</td>\n",
       "      <td>0</td>\n",
       "      <td>0</td>\n",
       "    </tr>\n",
       "    <tr>\n",
       "      <th>40453</th>\n",
       "      <td>40453</td>\n",
       "      <td>2.02</td>\n",
       "      <td>5</td>\n",
       "      <td>61.3</td>\n",
       "      <td>60.0</td>\n",
       "      <td>8.16</td>\n",
       "      <td>8.11</td>\n",
       "      <td>4.99</td>\n",
       "      <td>9.680</td>\n",
       "      <td>0</td>\n",
       "      <td>...</td>\n",
       "      <td>1</td>\n",
       "      <td>0</td>\n",
       "      <td>0</td>\n",
       "      <td>0</td>\n",
       "      <td>0</td>\n",
       "      <td>0</td>\n",
       "      <td>0</td>\n",
       "      <td>1</td>\n",
       "      <td>0</td>\n",
       "      <td>0</td>\n",
       "    </tr>\n",
       "    <tr>\n",
       "      <th>40454</th>\n",
       "      <td>40454</td>\n",
       "      <td>0.50</td>\n",
       "      <td>1</td>\n",
       "      <td>55.8</td>\n",
       "      <td>60.0</td>\n",
       "      <td>5.31</td>\n",
       "      <td>5.27</td>\n",
       "      <td>2.95</td>\n",
       "      <td>7.154</td>\n",
       "      <td>0</td>\n",
       "      <td>...</td>\n",
       "      <td>0</td>\n",
       "      <td>0</td>\n",
       "      <td>0</td>\n",
       "      <td>0</td>\n",
       "      <td>0</td>\n",
       "      <td>0</td>\n",
       "      <td>0</td>\n",
       "      <td>1</td>\n",
       "      <td>0</td>\n",
       "      <td>0</td>\n",
       "    </tr>\n",
       "  </tbody>\n",
       "</table>\n",
       "<p>40455 rows × 22 columns</p>\n",
       "</div>"
      ],
      "text/plain": [
       "          id  carat  cut  depth  table     x     y     z  price  color_E  ...  \\\n",
       "0          0   1.50    5   61.5   58.0  7.32  7.34  4.51  9.588        0  ...   \n",
       "1          1   2.01    4   60.6   59.0  8.11  8.25  4.96  9.748        1  ...   \n",
       "2          2   0.50    2   61.6   57.0  5.13  5.09  3.15  7.255        1  ...   \n",
       "3          3   0.25    4   61.6   57.0  4.05  4.08  2.50  6.450        0  ...   \n",
       "4          4   0.52    2   62.0   55.0  5.16  5.19  3.21  7.721        0  ...   \n",
       "...      ...    ...  ...    ...    ...   ...   ...   ...    ...      ...  ...   \n",
       "40450  40450   1.04    4   59.6   57.0  6.60  6.62  3.94  8.190        0  ...   \n",
       "40451  40451   0.51    4   63.3   59.0  5.09  5.05  3.21  7.246        1  ...   \n",
       "40452  40452   1.51    2   62.6   57.0  7.37  7.33  4.60  9.277        0  ...   \n",
       "40453  40453   2.02    5   61.3   60.0  8.16  8.11  4.99  9.680        0  ...   \n",
       "40454  40454   0.50    1   55.8   60.0  5.31  5.27  2.95  7.154        0  ...   \n",
       "\n",
       "       color_H  color_I  color_J  clarity_IF  clarity_SI1  clarity_SI2  \\\n",
       "0            0        0        0           0            0            0   \n",
       "1            0        0        0           0            0            1   \n",
       "2            0        0        0           0            1            0   \n",
       "3            0        0        0           0            0            0   \n",
       "4            0        0        0           0            0            0   \n",
       "...        ...      ...      ...         ...          ...          ...   \n",
       "40450        0        1        0           0            0            1   \n",
       "40451        0        0        0           0            1            0   \n",
       "40452        1        0        0           0            0            0   \n",
       "40453        1        0        0           0            0            0   \n",
       "40454        0        0        0           0            0            0   \n",
       "\n",
       "       clarity_VS1  clarity_VS2  clarity_VVS1  clarity_VVS2  \n",
       "0                0            1             0             0  \n",
       "1                0            0             0             0  \n",
       "2                0            0             0             0  \n",
       "3                0            0             0             1  \n",
       "4                0            1             0             0  \n",
       "...            ...          ...           ...           ...  \n",
       "40450            0            0             0             0  \n",
       "40451            0            0             0             0  \n",
       "40452            0            1             0             0  \n",
       "40453            0            1             0             0  \n",
       "40454            0            1             0             0  \n",
       "\n",
       "[40455 rows x 22 columns]"
      ]
     },
     "execution_count": 108,
     "metadata": {},
     "output_type": "execute_result"
    }
   ],
   "source": [
    "train_2"
   ]
  },
  {
   "cell_type": "code",
   "execution_count": null,
   "metadata": {},
   "outputs": [],
   "source": [
    "X= "
   ]
  }
 ],
 "metadata": {
  "kernelspec": {
   "display_name": "Python 3",
   "language": "python",
   "name": "python3"
  },
  "language_info": {
   "codemirror_mode": {
    "name": "ipython",
    "version": 3
   },
   "file_extension": ".py",
   "mimetype": "text/x-python",
   "name": "python",
   "nbconvert_exporter": "python",
   "pygments_lexer": "ipython3",
   "version": "3.9.1"
  }
 },
 "nbformat": 4,
 "nbformat_minor": 4
}
